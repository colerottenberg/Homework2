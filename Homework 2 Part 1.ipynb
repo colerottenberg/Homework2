{
 "cells": [
  {
   "cell_type": "markdown",
   "metadata": {},
   "source": [
    "# Homework 2 Part 1\n",
    "\n",
    "**Due: Monday, October 2, 11:59 PM**\n",
    "\n",
    "This is an individual assignment."
   ]
  },
  {
   "cell_type": "markdown",
   "metadata": {},
   "source": [
    "## Description\n",
    "\n",
    "Provide analytical solutions to the problems below and upload your answers as a PDF. (There is no need to type your answers -- just scan your handwritten solutions with an app like [CamScanner](https://www.camscanner.com/user/download) or [Scannable](https://apps.apple.com/us/app/evernote-scannable/id883338188).)"
   ]
  },
  {
   "cell_type": "markdown",
   "metadata": {},
   "source": [
    "## Problem 1\n",
    "\n",
    "In his 1935 book, The Design of Experiments (London, Oliver and Boyd, 260pp.), [Sir Ronald Aylmer Fisher](https://en.wikipedia.org/wiki/Ronald_Fisher) (who invented the permutation test) writes:\n",
    "\n",
    "> A LADY declares that by tasting a cup of tea made with milk she can discriminate whether the milk or the tea infusion was first added to the cup. We will consider the problem of designing an experiment by means of which this assertion can be tested. \n",
    "\n",
    "The experiment consists in mixing **eight** cups of tea, four in one way and four in the other, and presenting them to the subject for judgment in a random order. The subject has been told in advance of what the test will consist, namely that she will be asked to taste eight cups, that these shall be four of each kind, and that they shall be presented to her in a random order. Her task is to divide the 8 cups into two sets of 4, i.e., \"milk-first\" and \"tea-first\".\n",
    "\n",
    "1. How many possible outcomes to distribute the four \"milk-first\" cups among the eight cups?\n",
    "\n",
    "2. Under the null hypothesis that the lady cannot taste any difference, what is the probability of the numbers of \"miss\" are 0, 2, 4, 6, and 8? (Note that the number of \"miss\" must be even).\n",
    "\n",
    "3. If the lady **missed two cups** in the experiment, should we reject the null hypothesis under significance level of $5\\%$? Please show your steps. \n",
    "\n",
    "Historically, the lady correctly identifies all the eight cups. There are other experiments we might construct to test this hypothesis.\n",
    "\n",
    "If we present the lady with **four pairs** of cups of tea with milk, where one cup in each pair (determined randomly) has milk added first and one has tea added first. Tell the lady that each pair has one of each kind of cup; ask her to identify which member of each pair had the milk added first. Count the number of pairs she categorizes correctly. (This approach is sometimes called two-alternative forced choice.)\n",
    "\n",
    "4. How many possible outcomes to distribute the four \"milk-first\" in this experiment?\n",
    "\n",
    "5. Under the null hypothesis that the lady cannot taste any difference, what is the probability of the numbers of \"miss\" are 0, 2, 4, 6, and 8?\n",
    "\n",
    "6. If the lady correctly identifies all four pairs in the experiment, should we reject the null hypothesis under significance level of $5\\%$? Please show your steps. \n",
    "\n",
    "7. In order to reject the null hypothesis under significance level of $5\\%$ given that the lady missed **one pair** in the experiment, what is the minimum value of $n$ required? \n"
   ]
  },
  {
   "cell_type": "markdown",
   "metadata": {},
   "source": [
    "# Submit Your Solutions\n",
    "\n",
    "Confirm that you've successfully completed the assignment.\n",
    "\n",
    "Scan your handwritten solutions and create a single PDF file with your solutions.\n",
    "\n",
    "Submit the pdf file as your assignment submission on Canvas."
   ]
  },
  {
   "cell_type": "code",
   "execution_count": null,
   "metadata": {},
   "outputs": [],
   "source": []
  }
 ],
 "metadata": {
  "kernelspec": {
   "display_name": "Python 3 (ipykernel)",
   "language": "python",
   "name": "python3"
  },
  "language_info": {
   "codemirror_mode": {
    "name": "ipython",
    "version": 3
   },
   "file_extension": ".py",
   "mimetype": "text/x-python",
   "name": "python",
   "nbconvert_exporter": "python",
   "pygments_lexer": "ipython3",
   "version": "3.11.4"
  },
  "latex_envs": {
   "LaTeX_envs_menu_present": true,
   "autoclose": false,
   "autocomplete": true,
   "bibliofile": "biblio.bib",
   "cite_by": "apalike",
   "current_citInitial": 1,
   "eqLabelWithNumbers": true,
   "eqNumInitial": 1,
   "hotkeys": {
    "equation": "Ctrl-E",
    "itemize": "Ctrl-I"
   },
   "labels_anchors": false,
   "latex_user_defs": false,
   "report_style_numbering": false,
   "user_envs_cfg": false
  },
  "varInspector": {
   "cols": {
    "lenName": 16,
    "lenType": 16,
    "lenVar": 40
   },
   "kernels_config": {
    "python": {
     "delete_cmd_postfix": "",
     "delete_cmd_prefix": "del ",
     "library": "var_list.py",
     "varRefreshCmd": "print(var_dic_list())"
    },
    "r": {
     "delete_cmd_postfix": ") ",
     "delete_cmd_prefix": "rm(",
     "library": "var_list.r",
     "varRefreshCmd": "cat(var_dic_list()) "
    }
   },
   "types_to_exclude": [
    "module",
    "function",
    "builtin_function_or_method",
    "instance",
    "_Feature"
   ],
   "window_display": false
  }
 },
 "nbformat": 4,
 "nbformat_minor": 4
}
